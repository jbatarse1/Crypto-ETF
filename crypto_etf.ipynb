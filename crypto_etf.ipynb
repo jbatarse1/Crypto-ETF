{
 "cells": [
  {
   "cell_type": "markdown",
   "id": "94201709-437c-4aec-b739-490b6090d3f0",
   "metadata": {},
   "source": [
    "# Bitcoin and Cryptocurrencies ETF Application\n",
    "\n",
    "ETF Analyzer\n",
    "\n",
    "This application is developed to analyze the Risk and Return of a Bitcoin ETF and a Cryptocurrencies ETF against the S&P500 benchmark.\n",
    "\n",
    "The detailed instructions are divided into 5 steps:\n",
    "\n",
    "   1. Data Collection and Preparation\n",
    "   2. Financial Calculations\n",
    "   3. Forecasting Performance utilizing Monte Carlo Simulations\n",
    "   4. Interactive Visualizations\n",
    "   5. Dashboard\n",
    "\n",
    "\n"
   ]
  },
  {
   "cell_type": "code",
   "execution_count": null,
   "id": "1711815d-9f26-4650-8cb4-7f1a04c3871e",
   "metadata": {},
   "outputs": [],
   "source": []
  },
  {
   "cell_type": "markdown",
   "id": "7b2cc960-ba91-46e1-a911-688dae7b39e5",
   "metadata": {},
   "source": [
    "**Starter Code**"
   ]
  },
  {
   "cell_type": "code",
   "execution_count": 10,
   "id": "bb93d5b3",
   "metadata": {},
   "outputs": [],
   "source": [
    "#Import libraries and dependencies\n",
    "\n",
    "import pandas as pd\n",
    "from pathlib import Path\n",
    "import numpy\n",
    "%matplotlib inline\n",
    "import requests\n",
    "import json\n",
    "import os\n",
    "from dotenv import load_dotenv\n",
    "import alpaca_trade_api as tradeapi\n",
    "import hvplot.pandas\n",
    "import sqlalchemy\n",
    "import fire\n",
    "import questionary\n",
    "import urllib\n",
    "\n",
    "#From MCForecastTools import MCSimulation\n",
    "#MCForecastTools.py\n"
   ]
  },
  {
   "cell_type": "markdown",
   "id": "3675d10f-40f4-4ad5-8447-4f53b1a1fabe",
   "metadata": {},
   "source": [
    "### Data Collection and Preparation\n",
    "3 years of historical data\n"
   ]
  },
  {
   "cell_type": "markdown",
   "id": "f8c338ae-6370-479c-8570-0e734da7c773",
   "metadata": {},
   "source": [
    "#### Review the endpoint URLs for the API calls to Free Crypto API in order to get the current pricing information for both BTC and ETH."
   ]
  },
  {
   "cell_type": "code",
   "execution_count": 11,
   "id": "188d1817-d300-4c6c-88dc-e6b1e37aa5a3",
   "metadata": {},
   "outputs": [],
   "source": [
    "# The Free Crypto API Call endpoint URLs for the held cryptocurrency assets\n",
    "btc_url = \"https://api.alternative.me/v2/ticker/Bitcoin/?convert=USD\"\n",
    "eth_url = \"https://api.alternative.me/v2/ticker/Ethereum/?convert=USD\""
   ]
  },
  {
   "cell_type": "code",
   "execution_count": 12,
   "id": "ce3c47d4-f971-43c7-bc59-1f50bf05d58a",
   "metadata": {},
   "outputs": [
    {
     "name": "stdout",
     "output_type": "stream",
     "text": [
      "{\n",
      "    \"data\": {\n",
      "        \"1\": {\n",
      "            \"circulating_supply\": 18959687,\n",
      "            \"id\": 1,\n",
      "            \"last_updated\": 1644991679,\n",
      "            \"max_supply\": 21000000,\n",
      "            \"name\": \"Bitcoin\",\n",
      "            \"quotes\": {\n",
      "                \"USD\": {\n",
      "                    \"market_cap\": 836276831396,\n",
      "                    \"percent_change_1h\": 0.286451508839661,\n",
      "                    \"percent_change_24h\": 1.18321882761037,\n",
      "                    \"percent_change_7d\": -0.11628563926425,\n",
      "                    \"percentage_change_1h\": 0.286451508839661,\n",
      "                    \"percentage_change_24h\": 1.18321882761037,\n",
      "                    \"percentage_change_7d\": -0.11628563926425,\n",
      "                    \"price\": 44133.0,\n",
      "                    \"volume_24h\": 18570317032\n",
      "                }\n",
      "            },\n",
      "            \"rank\": 1,\n",
      "            \"symbol\": \"BTC\",\n",
      "            \"total_supply\": 18959687,\n",
      "            \"website_slug\": \"bitcoin\"\n",
      "        }\n",
      "    },\n",
      "    \"metadata\": {\n",
      "        \"error\": null,\n",
      "        \"num_cryptocurrencies\": 3105,\n",
      "        \"timestamp\": 1644991679\n",
      "    }\n",
      "}\n"
     ]
    }
   ],
   "source": [
    "# Using the Python requests library, make an API call to access the current price of BTC\n",
    "btc_response = requests.get(btc_url).json()\n",
    "\n",
    "# Use the json.dumps function to review the response data from the API call\n",
    "# Use the indent and sort_keys parameters to make the response object readable\n",
    "print(json.dumps(btc_response, indent=4, sort_keys=True))"
   ]
  },
  {
   "cell_type": "code",
   "execution_count": null,
   "id": "32510605-dc65-4ab6-8b19-bd664b8ec741",
   "metadata": {},
   "outputs": [],
   "source": []
  },
  {
   "cell_type": "markdown",
   "id": "3b886ef3-ddc1-4a9c-9090-6542ab588892",
   "metadata": {},
   "source": [
    "#### Have an environment file (`.env`) to store the values of your Alpaca API key & Alpaca secret key."
   ]
  },
  {
   "cell_type": "markdown",
   "id": "41f5d9d7-1ee1-418b-b231-f3dac32118ee",
   "metadata": {},
   "source": [
    "#### Set the variables for the Alpaca API and secret keys. Using the Alpaca SDK, create the Alpaca `tradeapi.REST` object. In this object, include the parameters for the Alpaca API key, the secret key, and the version number."
   ]
  },
  {
   "cell_type": "code",
   "execution_count": 13,
   "id": "76f7f27a-37ca-4d58-baaf-528f7ef62e12",
   "metadata": {},
   "outputs": [
    {
     "ename": "ValueError",
     "evalue": "('Key ID must be given to access Alpaca trade API', ' (env: APCA_API_KEY_ID)')",
     "output_type": "error",
     "traceback": [
      "\u001b[0;31m---------------------------------------------------------------------------\u001b[0m",
      "\u001b[0;31mValueError\u001b[0m                                Traceback (most recent call last)",
      "\u001b[0;32m/var/folders/kb/q7fccrrj0tbffyxscfstnnn00000gn/T/ipykernel_43244/4240483224.py\u001b[0m in \u001b[0;36m<module>\u001b[0;34m\u001b[0m\n\u001b[1;32m      7\u001b[0m     \u001b[0malpaca_api_key\u001b[0m\u001b[0;34m,\u001b[0m\u001b[0;34m\u001b[0m\u001b[0;34m\u001b[0m\u001b[0m\n\u001b[1;32m      8\u001b[0m     \u001b[0malpaca_secret_key\u001b[0m\u001b[0;34m,\u001b[0m\u001b[0;34m\u001b[0m\u001b[0;34m\u001b[0m\u001b[0m\n\u001b[0;32m----> 9\u001b[0;31m     api_version=\"v2\")\n\u001b[0m\u001b[1;32m     10\u001b[0m \u001b[0;34m\u001b[0m\u001b[0m\n\u001b[1;32m     11\u001b[0m \u001b[0;31m# Check the values were imported correctly by evaluating the type of each\u001b[0m\u001b[0;34m\u001b[0m\u001b[0;34m\u001b[0m\u001b[0;34m\u001b[0m\u001b[0m\n",
      "\u001b[0;32m~/opt/anaconda3/envs/eev/lib/python3.7/site-packages/alpaca_trade_api/rest.py\u001b[0m in \u001b[0;36m__init__\u001b[0;34m(self, key_id, secret_key, base_url, api_version, oauth, raw_data)\u001b[0m\n\u001b[1;32m    143\u001b[0m         \"\"\"\n\u001b[1;32m    144\u001b[0m         self._key_id, self._secret_key, self._oauth = get_credentials(\n\u001b[0;32m--> 145\u001b[0;31m             key_id, secret_key, oauth)\n\u001b[0m\u001b[1;32m    146\u001b[0m         \u001b[0mself\u001b[0m\u001b[0;34m.\u001b[0m\u001b[0m_base_url\u001b[0m\u001b[0;34m:\u001b[0m \u001b[0mURL\u001b[0m \u001b[0;34m=\u001b[0m \u001b[0mURL\u001b[0m\u001b[0;34m(\u001b[0m\u001b[0mbase_url\u001b[0m \u001b[0;32mor\u001b[0m \u001b[0mget_base_url\u001b[0m\u001b[0;34m(\u001b[0m\u001b[0;34m)\u001b[0m\u001b[0;34m)\u001b[0m\u001b[0;34m\u001b[0m\u001b[0;34m\u001b[0m\u001b[0m\n\u001b[1;32m    147\u001b[0m         \u001b[0mself\u001b[0m\u001b[0;34m.\u001b[0m\u001b[0m_api_version\u001b[0m \u001b[0;34m=\u001b[0m \u001b[0mget_api_version\u001b[0m\u001b[0;34m(\u001b[0m\u001b[0mapi_version\u001b[0m\u001b[0;34m)\u001b[0m\u001b[0;34m\u001b[0m\u001b[0;34m\u001b[0m\u001b[0m\n",
      "\u001b[0;32m~/opt/anaconda3/envs/eev/lib/python3.7/site-packages/alpaca_trade_api/common.py\u001b[0m in \u001b[0;36mget_credentials\u001b[0;34m(key_id, secret_key, oauth)\u001b[0m\n\u001b[1;32m     83\u001b[0m     \u001b[0;32mif\u001b[0m \u001b[0mkey_id\u001b[0m \u001b[0;32mis\u001b[0m \u001b[0;32mNone\u001b[0m \u001b[0;32mand\u001b[0m \u001b[0moauth\u001b[0m \u001b[0;32mis\u001b[0m \u001b[0;32mNone\u001b[0m\u001b[0;34m:\u001b[0m\u001b[0;34m\u001b[0m\u001b[0;34m\u001b[0m\u001b[0m\n\u001b[1;32m     84\u001b[0m         raise ValueError('Key ID must be given to access Alpaca trade API',\n\u001b[0;32m---> 85\u001b[0;31m                          ' (env: APCA_API_KEY_ID)')\n\u001b[0m\u001b[1;32m     86\u001b[0m \u001b[0;34m\u001b[0m\u001b[0m\n\u001b[1;32m     87\u001b[0m     \u001b[0msecret_key\u001b[0m \u001b[0;34m=\u001b[0m \u001b[0msecret_key\u001b[0m \u001b[0;32mor\u001b[0m \u001b[0mos\u001b[0m\u001b[0;34m.\u001b[0m\u001b[0menviron\u001b[0m\u001b[0;34m.\u001b[0m\u001b[0mget\u001b[0m\u001b[0;34m(\u001b[0m\u001b[0;34m'APCA_API_SECRET_KEY'\u001b[0m\u001b[0;34m)\u001b[0m\u001b[0;34m\u001b[0m\u001b[0;34m\u001b[0m\u001b[0m\n",
      "\u001b[0;31mValueError\u001b[0m: ('Key ID must be given to access Alpaca trade API', ' (env: APCA_API_KEY_ID)')"
     ]
    }
   ],
   "source": [
    "# Set the variables for the Alpaca API and secret keys\n",
    "alpaca_api_key = os.getenv(\"ALPACA_API_KEY\")\n",
    "alpaca_secret_key = os.getenv(\"ALPACA_SECRET_KEY\")\n",
    "\n",
    "# Create the Alpaca tradeapi.REST object\n",
    "alpaca = tradeapi.REST(\n",
    "    alpaca_api_key,\n",
    "    alpaca_secret_key,\n",
    "    api_version=\"v2\")\n",
    "\n",
    "# Check the values were imported correctly by evaluating the type of each\n",
    "display(type(alpaca_api_key))\n",
    "print(type(alpaca_secret_key))"
   ]
  },
  {
   "cell_type": "markdown",
   "id": "54b3bfd3-beca-476c-9a3e-a7c36b530d70",
   "metadata": {},
   "source": [
    "### Financial Calculation and Quantitative Analysis\n",
    "\n",
    "\tAnalyze a Single ETF Portfolio\n",
    "\tAnalyze a Single CryptoCurrency ETF, Closing Prices\n",
    "\tAnalyze S&P500\n",
    "\n",
    "Performance: ROI,  daily returns (pct_change()), cumulative returns (cumprod()), compare to S&P500\n",
    "Volatility: box plot to visualize\n",
    "Risk: std dev, annual std dev, rolling std dev,\n",
    "Risk-return: annualized average return, Sharpe ratios (which ETF offer best/worst risk-return profile?)\n",
    "Portfolio diversification: Variance, Covariance, Beta\n",
    "\n",
    "Rolling Metrics: simple moving averages / rolling standard deviations / rolling beta (over time) and compare\n",
    "\n",
    "Plot visuals "
   ]
  },
  {
   "cell_type": "code",
   "execution_count": null,
   "id": "53d18779-86f6-4931-a187-a6abb875d488",
   "metadata": {},
   "outputs": [],
   "source": []
  },
  {
   "cell_type": "markdown",
   "id": "7ceec1f8-b048-4ceb-8883-041dcdcf5d69",
   "metadata": {},
   "source": [
    "### ETF Financial Performance Predictions using Monte Carlo Simulations\n",
    "\n",
    "\tAnalyze Closing Prices and Daily Returns\n",
    "\tDensity Plot Probability Distribution \n",
    "\tConfidence internals\n",
    "\n",
    "1. Run the Monte Carlo Simulation to forecast 3-5 years cumulative returns\n",
    "MC_fiveyear.calc_cumulative_return()\n",
    "2. Plot simulation outcomes\n",
    "Save plot for future use\n",
    "3. Plot probability distribution and confidence internals\n",
    "Save plot for future use\n",
    "4. Generate Summary Statistics from the Monte Carlo simulation\n",
    "MC_summary_statistics  =  MC_fiveyear.summarize_cumulative_returns()\n",
    "print(MC_summary_statistics)Sensitivity analysis:\n",
    "5. Portfolio construction and optimization\n"
   ]
  },
  {
   "cell_type": "code",
   "execution_count": null,
   "id": "31d9b65b-779b-4bc6-85f3-bdf4b1a08156",
   "metadata": {},
   "outputs": [],
   "source": []
  },
  {
   "cell_type": "markdown",
   "id": "4d5f5512-7726-4f4a-9d1d-6a8863eb6baf",
   "metadata": {},
   "source": [
    "### Create Interactive Visualizations with hvPlot\n",
    "\n",
    "HvPlot Widget Slider: Crypto ETF, Cryptocurrencies\n",
    "\n",
    "Composite Plots\n",
    "\n",
    "Overlay plot\n"
   ]
  },
  {
   "cell_type": "code",
   "execution_count": null,
   "id": "49bcc90b-0ee3-4347-97ca-f5871315b866",
   "metadata": {},
   "outputs": [],
   "source": []
  },
  {
   "cell_type": "markdown",
   "id": "a5bed3e6-2796-4eab-a8df-3c4375c7193b",
   "metadata": {},
   "source": [
    "### Dashboard"
   ]
  },
  {
   "cell_type": "code",
   "execution_count": null,
   "id": "f427546c-a5a2-4428-8665-71fb94a493ec",
   "metadata": {},
   "outputs": [],
   "source": []
  }
 ],
 "metadata": {
  "interpreter": {
   "hash": "4396f389b93e7269692bd3bea4c62813bbe379469bde939b058805f538feec11"
  },
  "kernelspec": {
   "display_name": "Python 3 (ipykernel)",
   "language": "python",
   "name": "python3"
  },
  "language_info": {
   "codemirror_mode": {
    "name": "ipython",
    "version": 3
   },
   "file_extension": ".py",
   "mimetype": "text/x-python",
   "name": "python",
   "nbconvert_exporter": "python",
   "pygments_lexer": "ipython3",
   "version": "3.7.11"
  }
 },
 "nbformat": 4,
 "nbformat_minor": 5
}
