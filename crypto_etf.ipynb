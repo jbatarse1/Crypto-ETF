{
 "cells": [
  {
   "cell_type": "markdown",
   "id": "94201709-437c-4aec-b739-490b6090d3f0",
   "metadata": {},
   "source": [
    "# Bitcoin and Cryptocurrencies ETF Application\n",
    "\n",
    "ETF Analyzer\n",
    "\n",
    "This application is developed to analyze the Risk and Return of a Bitcoin ETF and a Cryptocurrencies ETF against the S&P500 benchmark.\n",
    "\n",
    "The detailed instructions are divided into 5 steps:\n",
    "\n",
    "   1. Data Collection and Preparation\n",
    "   2. Financial Calculations\n",
    "   3. Forecasting Performance utilizing Monte Carlo Simulations\n",
    "   4. Interactive Visualizations\n",
    "   5. Dashboard\n",
    "\n",
    "\n"
   ]
  },
  {
   "cell_type": "code",
   "execution_count": null,
   "id": "1711815d-9f26-4650-8cb4-7f1a04c3871e",
   "metadata": {},
   "outputs": [],
   "source": []
  },
  {
   "cell_type": "markdown",
   "id": "7b2cc960-ba91-46e1-a911-688dae7b39e5",
   "metadata": {},
   "source": [
    "**Starter Code**"
   ]
  },
  {
   "cell_type": "code",
   "execution_count": 3,
   "id": "bb93d5b3",
   "metadata": {},
   "outputs": [],
   "source": [
    "#Import libraries and dependencies\n",
    "\n",
    "import pandas as pd\n",
    "from pathlib import Path\n",
    "import numpy\n",
    "%matplotlib inline\n",
    "import requests\n",
    "import json\n",
    "import os\n",
    "from dotenv import load_dotenv\n",
    "import alpaca_trade_api as tradeapi\n",
    "import hvplot.pandas\n",
    "import sqlalchemy\n",
    "import fire\n",
    "import questionary\n",
    "import urllib\n",
    "\n",
    "#From MCForecastTools import MCSimulation\n",
    "#MCForecastTools.py\n"
   ]
  },
  {
   "cell_type": "code",
   "execution_count": null,
   "id": "7e4e3d49-061a-4f48-8af8-b582dfa9228f",
   "metadata": {},
   "outputs": [],
   "source": []
  }
 ],
 "metadata": {
  "interpreter": {
   "hash": "4396f389b93e7269692bd3bea4c62813bbe379469bde939b058805f538feec11"
  },
  "kernelspec": {
   "display_name": "Python 3 (ipykernel)",
   "language": "python",
   "name": "python3"
  },
  "language_info": {
   "codemirror_mode": {
    "name": "ipython",
    "version": 3
   },
   "file_extension": ".py",
   "mimetype": "text/x-python",
   "name": "python",
   "nbconvert_exporter": "python",
   "pygments_lexer": "ipython3",
   "version": "3.7.11"
  }
 },
 "nbformat": 4,
 "nbformat_minor": 5
}
