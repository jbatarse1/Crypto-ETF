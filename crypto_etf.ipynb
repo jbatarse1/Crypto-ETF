{
 "cells": [
  {
   "cell_type": "code",
   "execution_count": null,
   "id": "90b5d82f-4b57-44cb-bc00-f4d9062b7464",
   "metadata": {},
   "outputs": [],
   "source": [
    "Here is the starter file for the Crypto ETF project"
   ]
  },
  {
   "cell_type": "code",
   "execution_count": null,
   "id": "da5f2ea1",
   "metadata": {},
   "outputs": [],
   "source": [
    "#test"
   ]
  },
  {
   "cell_type": "code",
   "execution_count": null,
   "id": "bb93d5b3",
   "metadata": {},
   "outputs": [],
   "source": []
  }
 ],
 "metadata": {
  "kernelspec": {
   "display_name": "Python (dev)",
   "language": "python",
   "name": "dev"
  },
  "language_info": {
   "codemirror_mode": {
    "name": "ipython",
    "version": 3
   },
   "file_extension": ".py",
   "mimetype": "text/x-python",
   "name": "python",
   "nbconvert_exporter": "python",
   "pygments_lexer": "ipython3",
   "version": "3.7.11"
  }
 },
 "nbformat": 4,
 "nbformat_minor": 5
}
