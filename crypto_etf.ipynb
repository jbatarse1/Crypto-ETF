{
 "cells": [
  {
   "cell_type": "code",
   "execution_count": null,
   "id": "90b5d82f-4b57-44cb-bc00-f4d9062b7464",
   "metadata": {},
   "outputs": [],
   "source": [
    "Here is the starter file for the Crypto ETF project\n",
    "#test\n"
   ]
  },
  {
   "cell_type": "code",
   "execution_count": null,
<<<<<<< HEAD
   "id": "450fd63c-61ed-4ca2-a62c-9a3894dab166",
   "metadata": {},
   "outputs": [],
   "source": [
    "The data visualization code will appear below this cell"
   ]
=======
   "id": "da5f2ea1",
   "metadata": {},
   "outputs": [],
   "source": [
    "#test"
   ]
  },
  {
   "cell_type": "code",
   "execution_count": null,
   "id": "bb93d5b3",
   "metadata": {},
   "outputs": [],
   "source": []
>>>>>>> 594b0c75b09f933b8a75d3a005db8410cb2fa039
  }
 ],
 "metadata": {
  "interpreter": {
   "hash": "4396f389b93e7269692bd3bea4c62813bbe379469bde939b058805f538feec11"
  },
  "kernelspec": {
   "display_name": "Python (dev)",
   "language": "python",
   "name": "python3"
  },
  "language_info": {
   "codemirror_mode": {
    "name": "ipython",
    "version": 3
   },
   "file_extension": ".py",
   "mimetype": "text/x-python",
   "name": "python",
   "nbconvert_exporter": "python",
   "pygments_lexer": "ipython3",
   "version": "3.7.11"
  }
 },
 "nbformat": 4,
 "nbformat_minor": 5
}
